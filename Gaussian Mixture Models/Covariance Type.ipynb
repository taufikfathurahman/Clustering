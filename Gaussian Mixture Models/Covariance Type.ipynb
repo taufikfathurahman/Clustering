{
 "cells": [
  {
   "cell_type": "code",
   "execution_count": null,
   "metadata": {},
   "outputs": [],
   "source": [
    "%matplotlib inline\n",
    "import matplotlib.pyplot as plt\n",
    "import seaborn as sns; sns.set()\n",
    "import numpy as np\n",
    "from sklearn.mixture import GMM\n",
    "\n",
    "from matplotlib.patches import Ellipse\n",
    "\n",
    "def draw_ellipse(position, covariance, ax=None, **kwargs):\n",
    "    \"\"\"Draw an ellipse with a given position and covariance\"\"\"\n",
    "    ax = ax or plt.gca()\n",
    "    \n",
    "    # Convert covariance to principal axes\n",
    "    if covariance.shape == (2, 2):\n",
    "        U, s, Vt = np.linalg.svd(covariance)\n",
    "        angle = np.degrees(np.arctan2(U[1, 0], U[0, 0]))\n",
    "        width, height = 2 * np.sqrt(s)\n",
    "    else:\n",
    "        angle = 0\n",
    "        width, height = 2 * np.sqrt(covariance)\n",
    "    \n",
    "    # Draw the Ellipse\n",
    "    for nsig in range(1, 4):\n",
    "        ax.add_patch(Ellipse(position, nsig * width, nsig * height,\n",
    "                             angle, **kwargs))\n",
    "\n",
    "fig, ax = plt.subplots(1, 3, figsize=(14, 4), sharex=True, sharey=True)\n",
    "fig.subplots_adjust(wspace=0.05)\n",
    "\n",
    "rng = np.random.RandomState(5)\n",
    "X = np.dot(rng.randn(500, 2), rng.randn(2, 2))\n",
    "\n",
    "for i, cov_type in enumerate(['diag', 'spherical', 'full']):\n",
    "    model = GMM(1, covariance_type=cov_type).fit(X)\n",
    "    ax[i].axis('equal')\n",
    "    ax[i].scatter(X[:, 0], X[:, 1], alpha=0.5)\n",
    "    ax[i].set_xlim(-3, 3)\n",
    "    ax[i].set_title('covariance_type=\"{0}\"'.format(cov_type),\n",
    "                    size=14, family='monospace')\n",
    "    draw_ellipse(model.means_[0], model.covars_[0], ax[i], alpha=0.2)\n",
    "    ax[i].xaxis.set_major_formatter(plt.NullFormatter())\n",
    "    ax[i].yaxis.set_major_formatter(plt.NullFormatter())\n",
    "\n",
    "fig.savefig('Results/covariance-type.png')"
   ]
  },
  {
   "cell_type": "code",
   "execution_count": null,
   "metadata": {},
   "outputs": [],
   "source": []
  }
 ],
 "metadata": {
  "kernelspec": {
   "display_name": "Python 3",
   "language": "python",
   "name": "python3"
  },
  "language_info": {
   "codemirror_mode": {
    "name": "ipython",
    "version": 3
   },
   "file_extension": ".py",
   "mimetype": "text/x-python",
   "name": "python",
   "nbconvert_exporter": "python",
   "pygments_lexer": "ipython3",
   "version": "3.7.3"
  }
 },
 "nbformat": 4,
 "nbformat_minor": 2
}
